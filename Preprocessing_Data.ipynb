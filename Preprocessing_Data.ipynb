{
  "nbformat": 4,
  "nbformat_minor": 0,
  "metadata": {
    "colab": {
      "provenance": [],
      "toc_visible": true,
      "authorship_tag": "ABX9TyNhpFPjW/Kh7h3vsG3Ob+sK",
      "include_colab_link": true
    },
    "kernelspec": {
      "name": "python3",
      "display_name": "Python 3"
    },
    "language_info": {
      "name": "python"
    }
  },
  "cells": [
    {
      "cell_type": "markdown",
      "metadata": {
        "id": "view-in-github",
        "colab_type": "text"
      },
      "source": [
        "<a href=\"https://colab.research.google.com/github/Newgoklas/PreprocessingData/blob/main/Preprocessing_Data.ipynb\" target=\"_parent\"><img src=\"https://colab.research.google.com/assets/colab-badge.svg\" alt=\"Open In Colab\"/></a>"
      ]
    },
    {
      "cell_type": "code",
      "execution_count": 20,
      "metadata": {
        "id": "g47BOD2Dy_LE"
      },
      "outputs": [],
      "source": [
        "import numpy as np\n",
        "import matplotlib.pyplot as plt\n",
        "import pandas as pd\n",
        "from sklearn.model_selection import train_test_split"
      ]
    },
    {
      "cell_type": "markdown",
      "source": [
        "Numpy merupakan library python digunakan untuk komputasi matriks.\n",
        "Matplotlib merupakan library python untuk presentasi data berupa grafik atau plot.\n"
      ],
      "metadata": {
        "id": "EfOGRffd0ypY"
      }
    },
    {
      "cell_type": "code",
      "source": [
        "dataset = pd.read_csv(\"Data.csv\", sep=\";\")\n",
        "x = dataset.iloc[:, :-1].values\n",
        "y = dataset.iloc[:, -1].values\n"
      ],
      "metadata": {
        "id": "DhsxqEcq0bkt"
      },
      "execution_count": 21,
      "outputs": []
    },
    {
      "cell_type": "code",
      "source": [
        "print(x)"
      ],
      "metadata": {
        "colab": {
          "base_uri": "https://localhost:8080/"
        },
        "id": "eUfNrP7P3Wra",
        "outputId": "824d14b8-152c-4b79-c22d-0a40a54bf6ec"
      },
      "execution_count": 22,
      "outputs": [
        {
          "output_type": "stream",
          "name": "stdout",
          "text": [
            "[['Batam' 2024 '5.6']\n",
            " ['Aceh' 2024 '3.45']\n",
            " ['Sumaterautara' 2024 '4.56']\n",
            " ['Bali' 2024 '4..67']\n",
            " ['Jambi' 2024 '6.7']]\n"
          ]
        }
      ]
    },
    {
      "cell_type": "code",
      "source": [
        "print(y)"
      ],
      "metadata": {
        "colab": {
          "base_uri": "https://localhost:8080/"
        },
        "id": "6cATwsJX3hPE",
        "outputId": "6ad43fea-bbf2-49dd-8eca-c44fee34fae1"
      },
      "execution_count": 23,
      "outputs": [
        {
          "output_type": "stream",
          "name": "stdout",
          "text": [
            "['Tinggi' 'Rendah' 'Tinggi' 'Rendah' 'Tinggi']\n"
          ]
        }
      ]
    },
    {
      "cell_type": "code",
      "source": [
        "from sklearn.compose import ColumnTransformer\n",
        "from sklearn.preprocessing import OneHotEncoder\n",
        "ct = ColumnTransformer(transformers=[('encoder', OneHotEncoder(), [0])], remainder='passthrough')\n",
        "x = np.array(ct.fit_transform(x))"
      ],
      "metadata": {
        "id": "z-fF0cQ-3oob"
      },
      "execution_count": 24,
      "outputs": []
    },
    {
      "cell_type": "code",
      "source": [
        "print(x)"
      ],
      "metadata": {
        "colab": {
          "base_uri": "https://localhost:8080/"
        },
        "id": "L4Y_KXcm3u0d",
        "outputId": "31826060-dfb0-489c-bc97-48ff123c3c13"
      },
      "execution_count": 25,
      "outputs": [
        {
          "output_type": "stream",
          "name": "stdout",
          "text": [
            "[[0.0 0.0 1.0 0.0 0.0 2024 '5.6']\n",
            " [1.0 0.0 0.0 0.0 0.0 2024 '3.45']\n",
            " [0.0 0.0 0.0 0.0 1.0 2024 '4.56']\n",
            " [0.0 1.0 0.0 0.0 0.0 2024 '4..67']\n",
            " [0.0 0.0 0.0 1.0 0.0 2024 '6.7']]\n"
          ]
        }
      ]
    },
    {
      "cell_type": "code",
      "source": [
        "from sklearn.preprocessing import LabelEncoder\n",
        "le = LabelEncoder()\n",
        "y = le.fit_transform(y)"
      ],
      "metadata": {
        "id": "sY5fQ_E24FQs"
      },
      "execution_count": 26,
      "outputs": []
    },
    {
      "cell_type": "code",
      "source": [
        "print(y)"
      ],
      "metadata": {
        "colab": {
          "base_uri": "https://localhost:8080/"
        },
        "id": "WZF_HYQN4GWm",
        "outputId": "279ea45a-131e-4a1c-c9b6-8a333c8be276"
      },
      "execution_count": 27,
      "outputs": [
        {
          "output_type": "stream",
          "name": "stdout",
          "text": [
            "[1 0 1 0 1]\n"
          ]
        }
      ]
    },
    {
      "cell_type": "code",
      "source": [
        "from sklearn.model_selection import train_test_split\n",
        "x_train, x_test, y_train, y_test = train_test_split(x, y, test_size=0.2, random_state=1)\n"
      ],
      "metadata": {
        "id": "Fhk40XlX4L0W"
      },
      "execution_count": 28,
      "outputs": []
    },
    {
      "cell_type": "code",
      "source": [
        "print(x_train)"
      ],
      "metadata": {
        "colab": {
          "base_uri": "https://localhost:8080/"
        },
        "id": "8fi86wIK52WR",
        "outputId": "433411ff-afb2-4493-a58e-80646cba0df1"
      },
      "execution_count": 29,
      "outputs": [
        {
          "output_type": "stream",
          "name": "stdout",
          "text": [
            "[[1.0 0.0 0.0 0.0 0.0 2024 '3.45']\n",
            " [0.0 0.0 0.0 1.0 0.0 2024 '6.7']\n",
            " [0.0 0.0 1.0 0.0 0.0 2024 '5.6']\n",
            " [0.0 1.0 0.0 0.0 0.0 2024 '4..67']]\n"
          ]
        }
      ]
    },
    {
      "cell_type": "code",
      "source": [
        "print(x_test)"
      ],
      "metadata": {
        "colab": {
          "base_uri": "https://localhost:8080/"
        },
        "id": "w9bUIFZ46BXo",
        "outputId": "71275618-3d31-48fa-9ac0-b703d3ed4e38"
      },
      "execution_count": 30,
      "outputs": [
        {
          "output_type": "stream",
          "name": "stdout",
          "text": [
            "[[0.0 0.0 0.0 0.0 1.0 2024 '4.56']]\n"
          ]
        }
      ]
    },
    {
      "cell_type": "code",
      "source": [
        "print(y_train)"
      ],
      "metadata": {
        "colab": {
          "base_uri": "https://localhost:8080/"
        },
        "id": "XqXDX6M16Mz5",
        "outputId": "ff6a735a-8d2e-475f-a89d-5390785e32b8"
      },
      "execution_count": 31,
      "outputs": [
        {
          "output_type": "stream",
          "name": "stdout",
          "text": [
            "[0 1 1 0]\n"
          ]
        }
      ]
    },
    {
      "cell_type": "code",
      "source": [
        "print(y_test)"
      ],
      "metadata": {
        "colab": {
          "base_uri": "https://localhost:8080/"
        },
        "id": "Xug01ucY6Sp3",
        "outputId": "7faeea0b-1d90-4ab0-c7c6-d1643bafe826"
      },
      "execution_count": 32,
      "outputs": [
        {
          "output_type": "stream",
          "name": "stdout",
          "text": [
            "[1]\n"
          ]
        }
      ]
    },
    {
      "cell_type": "code",
      "source": [
        "from sklearn.preprocessing import StandardScaler\n",
        "\n",
        "sc = StandardScaler()\n",
        "x_train[:, 1:3] = sc.fit_transform(x_train[:, 1:3])\n",
        "x_test[:, 1:3] = sc.transform(x_test[:, 1:3])\n"
      ],
      "metadata": {
        "id": "MNo7gDlk6rLb"
      },
      "execution_count": 33,
      "outputs": []
    },
    {
      "cell_type": "code",
      "source": [
        "print(x_train)"
      ],
      "metadata": {
        "colab": {
          "base_uri": "https://localhost:8080/"
        },
        "id": "D0lqgevY6vP_",
        "outputId": "afd699d8-14f0-426b-9e0d-4420ff18e70d"
      },
      "execution_count": 34,
      "outputs": [
        {
          "output_type": "stream",
          "name": "stdout",
          "text": [
            "[[1.0 -0.5773502691896258 -0.5773502691896258 0.0 0.0 2024 '3.45']\n",
            " [0.0 -0.5773502691896258 -0.5773502691896258 1.0 0.0 2024 '6.7']\n",
            " [0.0 -0.5773502691896258 1.7320508075688774 0.0 0.0 2024 '5.6']\n",
            " [0.0 1.7320508075688774 -0.5773502691896258 0.0 0.0 2024 '4..67']]\n"
          ]
        }
      ]
    },
    {
      "cell_type": "code",
      "source": [
        "print(x_test)"
      ],
      "metadata": {
        "colab": {
          "base_uri": "https://localhost:8080/"
        },
        "id": "phoBdf8y66yj",
        "outputId": "20a35a74-ad5b-41a0-d220-8f20ccec82fa"
      },
      "execution_count": 35,
      "outputs": [
        {
          "output_type": "stream",
          "name": "stdout",
          "text": [
            "[[0.0 -0.5773502691896258 -0.5773502691896258 0.0 1.0 2024 '4.56']]\n"
          ]
        }
      ]
    }
  ]
}